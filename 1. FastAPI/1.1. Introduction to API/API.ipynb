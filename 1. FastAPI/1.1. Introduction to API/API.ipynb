{
  "nbformat": 4,
  "nbformat_minor": 0,
  "metadata": {
    "colab": {
      "provenance": []
    },
    "kernelspec": {
      "name": "python3",
      "display_name": "Python 3"
    },
    "language_info": {
      "name": "python"
    }
  },
  "cells": [
    {
      "cell_type": "code",
      "execution_count": 6,
      "metadata": {
        "id": "DzQFykGYnW2r"
      },
      "outputs": [],
      "source": [
        "import json\n",
        "import requests"
      ]
    },
    {
      "cell_type": "code",
      "source": [
        "response = requests.get(\"https://fruityvice.com/api/fruit/banana\")"
      ],
      "metadata": {
        "id": "oODm6Nw-oTwB"
      },
      "execution_count": 2,
      "outputs": []
    },
    {
      "cell_type": "code",
      "source": [
        "response"
      ],
      "metadata": {
        "colab": {
          "base_uri": "https://localhost:8080/"
        },
        "id": "2ojnGAuNopJQ",
        "outputId": "7feb3030-f8a0-4ed5-c029-76d908ac9785"
      },
      "execution_count": 3,
      "outputs": [
        {
          "output_type": "execute_result",
          "data": {
            "text/plain": [
              "<Response [200]>"
            ]
          },
          "metadata": {},
          "execution_count": 3
        }
      ]
    },
    {
      "cell_type": "code",
      "source": [
        "response.status_code"
      ],
      "metadata": {
        "colab": {
          "base_uri": "https://localhost:8080/"
        },
        "id": "tnP40XNtiIHd",
        "outputId": "9072ef57-0045-408a-f900-fa68f4af188f"
      },
      "execution_count": 4,
      "outputs": [
        {
          "output_type": "execute_result",
          "data": {
            "text/plain": [
              "200"
            ]
          },
          "metadata": {},
          "execution_count": 4
        }
      ]
    },
    {
      "cell_type": "code",
      "source": [
        "json.loads(response.text)"
      ],
      "metadata": {
        "colab": {
          "base_uri": "https://localhost:8080/"
        },
        "id": "F1-UuJ-SiKfg",
        "outputId": "f2867bc7-6a28-471c-9a5e-f5279d74fd83"
      },
      "execution_count": 7,
      "outputs": [
        {
          "output_type": "execute_result",
          "data": {
            "text/plain": [
              "{'name': 'Banana',\n",
              " 'id': 1,\n",
              " 'family': 'Musaceae',\n",
              " 'order': 'Zingiberales',\n",
              " 'genus': 'Musa',\n",
              " 'nutritions': {'calories': 96,\n",
              "  'fat': 0.2,\n",
              "  'sugar': 17.2,\n",
              "  'carbohydrates': 22.0,\n",
              "  'protein': 1.0}}"
            ]
          },
          "metadata": {},
          "execution_count": 7
        }
      ]
    },
    {
      "cell_type": "code",
      "source": [
        "response.content"
      ],
      "metadata": {
        "colab": {
          "base_uri": "https://localhost:8080/"
        },
        "id": "aCTL05GlkEp1",
        "outputId": "30997571-830b-45ac-e83c-04a98763f3aa"
      },
      "execution_count": 10,
      "outputs": [
        {
          "output_type": "execute_result",
          "data": {
            "text/plain": [
              "b'<!doctype html>\\n<html data-adblockkey=\"MFwwDQYJKoZIhvcNAQEBBQADSwAwSAJBANDrp2lz7AOmADaN8tA50LsWcjLFyQFcb/P2Txc58oYOeILb3vBw7J6f4pamkAQVSQuqYsKx3YzdUHCvbVZvFUsCAwEAAQ==_AcEZzYgdhdPYmzn+nuZfkYGWlp8LHKZLmt7LXg+xWc72Ecaj3qRrEePofYEmHKmyPVoviTbzr0WokrSyirnSPw==\" lang=\"en\" style=\"background: #2B2B2B;\">\\n<head>\\n    <meta charset=\"utf-8\">\\n    <meta name=\"viewport\" content=\"width=device-width, initial-scale=1\">\\n    <link rel=\"icon\" href=\"data:image/png;base64,iVBORw0KGgoAAAANSUhEUgAAAAEAAAABCAIAAACQd1PeAAAADElEQVQI12P4//8/AAX+Av7czFnnAAAAAElFTkSuQmCC\">\\n    <link rel=\"preconnect\" href=\"https://www.google.com\" crossorigin>\\n</head>\\n<body>\\n<div id=\"target\" style=\"opacity: 0\"></div>\\n<script>window.park = \"eyJ1dWlkIjoiMDEwZjcyMzItYTk0NS00NWI5LWJiNjktNTgxODFhNDgzMzhjIiwicGFnZV90aW1lIjoxNzUzMDI3MjUwLCJwYWdlX3VybCI6Imh0dHBzOi8vcGljc3VtLmNvbS8zMDAvMzAwIiwicGFnZV9tZXRob2QiOiJHRVQiLCJwYWdlX3JlcXVlc3QiOnt9LCJwYWdlX2hlYWRlcnMiOnt9LCJob3N0IjoicGljc3VtLmNvbSIsImlwIjoiMzQuMTQ4LjE5My4xNCJ9Cg==\";</script>\\n<script src=\"/busrPBNFU.js\"></script>\\n</body>\\n</html>\\n'"
            ]
          },
          "metadata": {},
          "execution_count": 10
        }
      ]
    },
    {
      "cell_type": "code",
      "source": [
        "import numpy as np\n",
        "import cv2\n",
        "import matplotlib.pyplot as plt\n",
        "\n",
        "file_data = np.frombuffer(response.content)\n",
        "image = cv2.imdecode(file_data, cv2.IMREAD_UNCHANGED)\n",
        "image =  cv2.cvtColor(image, cv2.COLOR_BGR2RGB)\n",
        "\n",
        "plt.imshow(image)\n",
        "plt.show()"
      ],
      "metadata": {
        "id": "nOzGY1-mkWis"
      },
      "execution_count": null,
      "outputs": []
    },
    {
      "cell_type": "code",
      "source": [
        "response = requests.get()"
      ],
      "metadata": {
        "id": "4vWea0xxmRFJ"
      },
      "execution_count": null,
      "outputs": []
    }
  ]
}